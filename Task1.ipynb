{
  "nbformat": 4,
  "nbformat_minor": 0,
  "metadata": {
    "colab": {
      "provenance": []
    },
    "kernelspec": {
      "name": "python3",
      "display_name": "Python 3"
    },
    "language_info": {
      "name": "python"
    }
  },
  "cells": [
    {
      "cell_type": "code",
      "execution_count": 4,
      "metadata": {
        "colab": {
          "base_uri": "https://localhost:8080/",
          "height": 834
        },
        "id": "xD0b_zg4Hyzm",
        "outputId": "8b9d61bc-3ff0-4d3e-de8b-f3b8786e4bd3"
      },
      "outputs": [
        {
          "output_type": "stream",
          "name": "stdout",
          "text": [
            "   longitude  latitude  housing_median_age  total_rooms  total_bedrooms  \\\n",
            "0    -122.05     37.37                27.0       3885.0           661.0   \n",
            "1    -118.30     34.26                43.0       1510.0           310.0   \n",
            "2    -117.81     33.78                27.0       3589.0           507.0   \n",
            "3    -118.36     33.82                28.0         67.0            15.0   \n",
            "4    -119.67     36.33                19.0       1241.0           244.0   \n",
            "\n",
            "   population  households  median_income  median_house_value  \n",
            "0      1537.0       606.0         6.6085            344700.0  \n",
            "1       809.0       277.0         3.5990            176500.0  \n",
            "2      1484.0       495.0         5.7934            270500.0  \n",
            "3        49.0        11.0         6.1359            330000.0  \n",
            "4       850.0       237.0         2.9375             81700.0  \n",
            "         longitude    latitude  housing_median_age   total_rooms  \\\n",
            "count  3000.000000  3000.00000         3000.000000   3000.000000   \n",
            "mean   -119.589200    35.63539           28.845333   2599.578667   \n",
            "std       1.994936     2.12967           12.555396   2155.593332   \n",
            "min    -124.180000    32.56000            1.000000      6.000000   \n",
            "25%    -121.810000    33.93000           18.000000   1401.000000   \n",
            "50%    -118.485000    34.27000           29.000000   2106.000000   \n",
            "75%    -118.020000    37.69000           37.000000   3129.000000   \n",
            "max    -114.490000    41.92000           52.000000  30450.000000   \n",
            "\n",
            "       total_bedrooms    population  households  median_income  \\\n",
            "count     3000.000000   3000.000000  3000.00000    3000.000000   \n",
            "mean       529.950667   1402.798667   489.91200       3.807272   \n",
            "std        415.654368   1030.543012   365.42271       1.854512   \n",
            "min          2.000000      5.000000     2.00000       0.499900   \n",
            "25%        291.000000    780.000000   273.00000       2.544000   \n",
            "50%        437.000000   1155.000000   409.50000       3.487150   \n",
            "75%        636.000000   1742.750000   597.25000       4.656475   \n",
            "max       5419.000000  11935.000000  4930.00000      15.000100   \n",
            "\n",
            "       median_house_value  \n",
            "count          3000.00000  \n",
            "mean         205846.27500  \n",
            "std          113119.68747  \n",
            "min           22500.00000  \n",
            "25%          121200.00000  \n",
            "50%          177650.00000  \n",
            "75%          263975.00000  \n",
            "max          500001.00000  \n"
          ]
        },
        {
          "output_type": "execute_result",
          "data": {
            "text/plain": [
              "\"\\nfrom sklearn.model_selection import train_test_split\\nX = USAhousing[['Avg. Area Income', 'Avg. Area House Age', 'Avg. Area Number of Rooms',\\n               'Avg. Area Number of Bedrooms', 'Area Population']]\\ny = USAhousing['Price']\\n\\nX_train, X_test, y_train, y_test = train_test_split(X, y, test_size=0.8, random_state=101)\\nfrom sklearn.linear_model import LinearRegression\\nlm = LinearRegression()\\nlm.fit(X_train,y_train)\\npredictions = lm.predict(X_test)\\nplt.scatter(y_test,predictions)\\n\""
            ],
            "application/vnd.google.colaboratory.intrinsic+json": {
              "type": "string"
            }
          },
          "metadata": {},
          "execution_count": 4
        }
      ],
      "source": [
        "import pandas as pd\n",
        "import numpy as np\n",
        "import matplotlib.pyplot as plt\n",
        "import seaborn as sns\n",
        "\n",
        "dataHousing = pd.read_csv('/ML/LR/house_prices.csv')\n",
        "print(dataHousing.head())\n",
        "print(dataHousing.describe())\n",
        "\n",
        "from sklearn.model_selection import train_test_split\n",
        "X = dataHousing[['Avg. Area Income', 'Avg. Area House Age', 'Avg. Area Number of Rooms',\n",
        "               'Avg. Area Number of Bedrooms', 'Area Population']]\n",
        "y = dataHousing['Price']\n",
        "\n",
        "X_train, X_test, y_train, y_test = train_test_split(X, y, test_size=0.2, random_state=101)\n",
        "from sklearn.linear_model import LinearRegression\n",
        "lm = LinearRegression()\n",
        "lm.fit(X_train,y_train)\n",
        "predictions = lm.predict(X_test)\n",
        "plt.scatter(y_test,predictions)\n",
        "\n"
      ]
    },
    {
      "cell_type": "code",
      "source": [
        "import pandas as pd\n",
        "import numpy as np\n",
        "import matplotlib.pyplot as plt\n",
        "import seaborn as sns\n",
        "from sklearn.model_selection import train_test_split\n",
        "from sklearn.linear_model import LinearRegression\n",
        "from sklearn.metrics import mean_squared_error\n",
        "\n",
        "\n",
        "df = pd.read_csv('/ML/LR/CarPrice.csv')\n",
        "df.drop(columns=['car_ID'], inplace=True)\n",
        "\n",
        "numeric_df = df.select_dtypes(include=[np.number])\n",
        "\n",
        "X = numeric_df.drop(columns=['price'])\n",
        "y = numeric_df['price']\n",
        "\n",
        "X_train, X_test, y_train, y_test = train_test_split(X, y, test_size=0.2, random_state=42)\n",
        "\n",
        "model = LinearRegression()\n",
        "model.fit(X_train, y_train)\n",
        "\n",
        "y_pred = model.predict(X_test)\n",
        "\n",
        "mse = mean_squared_error(y_test, y_pred)\n",
        "\n",
        "print(f'Mean Squared Error: {mse}')"
      ],
      "metadata": {
        "id": "YBh9GXUQMvM-"
      },
      "execution_count": null,
      "outputs": []
    },
    {
      "cell_type": "code",
      "source": [
        "import numpy as np\n",
        "import pandas as pd\n",
        "import matplotlib.pyplot as plt\n",
        "import seaborn as sns\n",
        "\n",
        "df = pd.read_csv(\"/ML/LR/Salary_Data.csv\")\n",
        "\n",
        "X = df[['YearsExperience']]\n",
        "Y = df.iloc[:,-1]\n",
        "\n",
        "from sklearn.model_selection import train_test_split\n",
        "X_train,X_test,Y_train,Y_test = train_test_split(X,Y,test_size=0.2,random_state=1)\n",
        "\n",
        "from sklearn.linear_model import LinearRegression\n",
        "lin_reg = LinearRegression()\n",
        "lin_reg.fit(X_train,Y_train)\n",
        "Y_pred = lin_reg.predict(X_train)\n",
        "Y_valtest_pred = lin_reg.predict(X_test)\n",
        "\n",
        "from sklearn.metrics import mean_squared_error\n",
        "print(f'The value of MAE is {mean_squared_error(Y_test,Y_valtest_pred)}')\n",
        "\n"
      ],
      "metadata": {
        "id": "pDuM9HxpNtk2"
      },
      "execution_count": null,
      "outputs": []
    }
  ]
}